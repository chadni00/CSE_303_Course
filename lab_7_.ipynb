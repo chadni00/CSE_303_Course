{
  "nbformat": 4,
  "nbformat_minor": 0,
  "metadata": {
    "colab": {
      "name": "lab 7 .ipynb",
      "provenance": [],
      "collapsed_sections": [],
      "authorship_tag": "ABX9TyOp/LeD6Ceo1KeJaWkdplPH",
      "include_colab_link": true
    },
    "kernelspec": {
      "name": "python3",
      "display_name": "Python 3"
    },
    "language_info": {
      "name": "python"
    }
  },
  "cells": [
    {
      "cell_type": "markdown",
      "metadata": {
        "id": "view-in-github",
        "colab_type": "text"
      },
      "source": [
        "<a href=\"https://colab.research.google.com/github/chadni00/CSE_303_Course/blob/main/lab_7_.ipynb\" target=\"_parent\"><img src=\"https://colab.research.google.com/assets/colab-badge.svg\" alt=\"Open In Colab\"/></a>"
      ]
    },
    {
      "cell_type": "markdown",
      "source": [
        "problem 1"
      ],
      "metadata": {
        "id": "3WAuVul1XRAb"
      }
    },
    {
      "cell_type": "code",
      "source": [
        "import numpy as np\n",
        "import matplotlib.pyplot as plt\n",
        "x = np.array([[1,2],[3,4]], dtype=np.int32)\n",
        "y = np.array([[5,6],[7,8]], dtype=np.int32)\n",
        "v = np.array([9,10])\n",
        "w = np.array([11,12])\n",
        "# Inner product of vectors\n",
        "print('Inner Product: ')\n",
        "print(v.dot(w))\n",
        "print(np.dot(v, w))\n",
        "print(np.inner(v, w))\n",
        "# Outer product of vectors\n",
        "print('Outer Product: ')\n",
        "print(np.outer(v,w))\n",
        "# Norm of a vector / matrix\n",
        "print('Norm: ')\n",
        "print(np.linalg.norm(v)) #Euclidean\n",
        "print(np.linalg.norm(v,1)) #Manhattan\n",
        "print(np.linalg.norm(v,np.inf)) #Infinite\n",
        "print(np.linalg.norm(x))\n",
        "print(np.linalg.norm(x, axis = 1)) #0 for column, 1 for row"
      ],
      "metadata": {
        "colab": {
          "base_uri": "https://localhost:8080/"
        },
        "id": "dg-OhoEFXTP6",
        "outputId": "3f8bf5d3-1eb0-4846-9c8f-850b70c4de87"
      },
      "execution_count": 2,
      "outputs": [
        {
          "output_type": "stream",
          "name": "stdout",
          "text": [
            "Inner Product: \n",
            "219\n",
            "219\n",
            "219\n",
            "Outer Product: \n",
            "[[ 99 108]\n",
            " [110 120]]\n",
            "Norm: \n",
            "13.45362404707371\n",
            "19.0\n",
            "10.0\n",
            "5.477225575051661\n",
            "[2.23606798 5.        ]\n"
          ]
        }
      ]
    },
    {
      "cell_type": "markdown",
      "source": [
        "2. vector-matrix and Matrix Multiplication"
      ],
      "metadata": {
        "id": "ctddxxgSaUn6"
      }
    },
    {
      "cell_type": "code",
      "source": [
        "# Matrix / vector product\n",
        "print(x.dot(v))\n",
        "print(np.dot(x, v))\n",
        "# Matrix / matrix product (Matrix Multiplication)\n",
        "print(x.dot(y))\n",
        "print(np.dot(x, y))\n",
        "print(np.matmul(x,y))\n",
        "print(x @ y)"
      ],
      "metadata": {
        "colab": {
          "base_uri": "https://localhost:8080/"
        },
        "id": "Tq6HmwGLbgGC",
        "outputId": "dd1bfdd9-3bcf-4ef9-d9d0-efa4b4a8a71f"
      },
      "execution_count": 3,
      "outputs": [
        {
          "output_type": "stream",
          "name": "stdout",
          "text": [
            "[29 67]\n",
            "[29 67]\n",
            "[[19 22]\n",
            " [43 50]]\n",
            "[[19 22]\n",
            " [43 50]]\n",
            "[[19 22]\n",
            " [43 50]]\n",
            "[[19 22]\n",
            " [43 50]]\n"
          ]
        }
      ]
    },
    {
      "cell_type": "markdown",
      "source": [
        "3. Determinant, Trace and Rank of a Matrix"
      ],
      "metadata": {
        "id": "UpoYHA0qRSJN"
      }
    },
    {
      "cell_type": "code",
      "source": [
        "m = np.array([[2,4,6],\n",
        "[1,5,9],\n",
        "[3,7,8]])\n",
        "# determinant of a matrix\n",
        "print('Determinant: %.2f'%np.linalg.det(m))\n",
        "# trace of a matrix\n",
        "print('Trace: %.2f'%np.trace(m))\n",
        "# rank of a matrix\n",
        "print('Rank: ', np.linalg.matrix_rank(m))"
      ],
      "metadata": {
        "colab": {
          "base_uri": "https://localhost:8080/"
        },
        "id": "BJ8kPi_ddcKq",
        "outputId": "2ad0a42f-e9a8-47f5-f01b-42c9cd81d147"
      },
      "execution_count": 4,
      "outputs": [
        {
          "output_type": "stream",
          "name": "stdout",
          "text": [
            "Determinant: -18.00\n",
            "Trace: 15.00\n",
            "Rank:  3\n"
          ]
        }
      ]
    },
    {
      "cell_type": "markdown",
      "source": [
        "4. Transpose and Inverse of a Matrix"
      ],
      "metadata": {
        "id": "BSx7I37ndkdY"
      }
    },
    {
      "cell_type": "code",
      "source": [
        "# transpose of a matrix\n",
        "mt1 = m.T\n",
        "print(mt1)\n",
        "mt2 = np.transpose(m)\n",
        "print(mt2)\n",
        "# inverse of a matrix\n",
        "inv_m = np.linalg.inv(m)\n",
        "print(inv_m)"
      ],
      "metadata": {
        "colab": {
          "base_uri": "https://localhost:8080/"
        },
        "id": "Mn80B-lXdlHA",
        "outputId": "7fffc251-33a9-45ef-8bd5-184955b1d48e"
      },
      "execution_count": 9,
      "outputs": [
        {
          "output_type": "stream",
          "name": "stdout",
          "text": [
            "[[2 1 3]\n",
            " [4 5 7]\n",
            " [6 9 8]]\n",
            "[[2 1 3]\n",
            " [4 5 7]\n",
            " [6 9 8]]\n",
            "[[ 1.27777778 -0.55555556 -0.33333333]\n",
            " [-1.05555556  0.11111111  0.66666667]\n",
            " [ 0.44444444  0.11111111 -0.33333333]]\n"
          ]
        }
      ]
    },
    {
      "cell_type": "markdown",
      "source": [
        "5. Solving a Linear System"
      ],
      "metadata": {
        "id": "y-y8JjW6d5la"
      }
    },
    {
      "cell_type": "code",
      "source": [
        "# Solving a linear system\n",
        "# Ax = Z => x = inv(A). Z\n",
        "A = np.array([[1, 2], [3, 4]])\n",
        "z = np.array([[5], [6]])\n",
        "# using inverse of a matrix\n",
        "print('Using Inverse: \\n' , np.linalg.inv(A).dot(z)) # slow computation\n",
        "#using solve function\n",
        "print('Using solve: \\n', np.linalg.solve(A, z)) # fast computation"
      ],
      "metadata": {
        "colab": {
          "base_uri": "https://localhost:8080/"
        },
        "id": "a7PqIOJCd6eB",
        "outputId": "31369bf7-7b5e-4a4a-d931-1f53de77382b"
      },
      "execution_count": 7,
      "outputs": [
        {
          "output_type": "stream",
          "name": "stdout",
          "text": [
            "Using Inverse: \n",
            " [[-4. ]\n",
            " [ 4.5]]\n",
            "Using solve: \n",
            " [[-4. ]\n",
            " [ 4.5]]\n"
          ]
        }
      ]
    },
    {
      "cell_type": "markdown",
      "source": [
        "6. Least Square Solution to a Linear Matrix Equation"
      ],
      "metadata": {
        "id": "YLlyOvj-eCcI"
      }
    },
    {
      "cell_type": "code",
      "source": [
        "x = np.arange(0, 9)\n",
        "A = np.array([x, np.ones(9)])\n",
        "print (A)\n",
        "# linearly generated sequence\n",
        "y = [19, 20, 20.5, 21.5, 22, 23, 23, 25.5, 24]\n",
        "# obtaining the parameters of regression line\n",
        "w = np.linalg.lstsq(A.T, y, rcond=None)[0]\n",
        "print(w)\n",
        "# plotting the line\n",
        "line = w[0]*x + w[1] # regression line\n",
        "plt.plot(x, line, 'r-')\n",
        "plt.plot(x, y, 'o')\n",
        "plt.show()"
      ],
      "metadata": {
        "colab": {
          "base_uri": "https://localhost:8080/",
          "height": 317
        },
        "id": "od9oc0B7eIO4",
        "outputId": "0dc39575-4ba9-4362-b9da-cf3121bf416d"
      },
      "execution_count": 8,
      "outputs": [
        {
          "output_type": "stream",
          "name": "stdout",
          "text": [
            "[[0. 1. 2. 3. 4. 5. 6. 7. 8.]\n",
            " [1. 1. 1. 1. 1. 1. 1. 1. 1.]]\n",
            "[ 0.71666667 19.18888889]\n"
          ]
        },
        {
          "output_type": "display_data",
          "data": {
            "text/plain": [
              "<Figure size 432x288 with 1 Axes>"
            ],
            "image/png": "[encoded data removed]"
          },
          "metadata": {
            "needs_background": "light"
          }
        }
      ]
    },
    {
      "cell_type": "markdown",
      "source": [
        "7. Eigenvalues and Eigenvectors"
      ],
      "metadata": {
        "id": "TRNGgUwKjRqo"
      }
    },
    {
      "cell_type": "code",
      "source": [
        "A = np.array([[0,1],[-2,-3]])\n",
        "#function to calculate eigenvalues and vector\n",
        "val, vect = np.linalg.eig(A)\n",
        "print(val)\n",
        "print(vect)"
      ],
      "metadata": {
        "id": "YDtJk5UUi7Fp"
      },
      "execution_count": null,
      "outputs": []
    },
    {
      "cell_type": "markdown",
      "source": [
        "**Part II: Simple Linear Regression in Python**"
      ],
      "metadata": {
        "id": "1vU47Qo5jhgf"
      }
    },
    {
      "cell_type": "markdown",
      "source": [
        "problem 1"
      ],
      "metadata": {
        "id": "t-Xf_fyBj6r_"
      }
    },
    {
      "cell_type": "code",
      "source": [
        "# Importing the libraries\n",
        "\n",
        "\n",
        "import numpy as np\n",
        "import matplotlib.pyplot as plt\n",
        "import pandas as pd\n",
        "\n",
        "\n",
        "# Importing the dataset\n",
        "dataset = pd.read_csv('SimpleLinearRegression.csv')\n",
        "dataset.columns = ['YearsExperience', 'Salary']\n",
        "X = dataset[['YearsExperience']]\n",
        "y = dataset[['Salary']]\n",
        "\n",
        "\n",
        "# Splitting the dataset into the Training set and Test set\n",
        "from sklearn.model_selection import train_test_split\n",
        "X_train, X_test, y_train, y_test = train_test_split(X, y, test_size\n",
        "= 1/3, random_state = 0)"
      ],
      "metadata": {
        "id": "P1F0cijGjsGe"
      },
      "execution_count": 13,
      "outputs": []
    },
    {
      "cell_type": "markdown",
      "source": [
        "problem 2"
      ],
      "metadata": {
        "id": "UxGGfwyAmkiX"
      }
    },
    {
      "cell_type": "markdown",
      "source": [
        "Fitting the dataset into simple Linear Regression Model"
      ],
      "metadata": {
        "id": "DJOm0zhWmnge"
      }
    },
    {
      "cell_type": "code",
      "source": [
        "# Fitting Simple Linear Regression to the Training set\n",
        "from sklearn.linear_model import LinearRegression\n",
        "regressor = LinearRegression()\n",
        "regressor.fit(X_train, y_train)"
      ],
      "metadata": {
        "colab": {
          "base_uri": "https://localhost:8080/"
        },
        "id": "KyjVC5zBj3hH",
        "outputId": "71cff5af-10ee-4666-9821-3e1c0f3cf9d2"
      },
      "execution_count": 18,
      "outputs": [
        {
          "output_type": "execute_result",
          "data": {
            "text/plain": [
              "LinearRegression()"
            ]
          },
          "metadata": {},
          "execution_count": 18
        }
      ]
    },
    {
      "cell_type": "markdown",
      "source": [
        "3. Predicting the values of the Test Set"
      ],
      "metadata": {
        "id": "ZLKPEd7AnVEW"
      }
    },
    {
      "cell_type": "code",
      "source": [
        "y_pred = regressor.predict(X_test)"
      ],
      "metadata": {
        "id": "KmuoEWUqnWUH"
      },
      "execution_count": 20,
      "outputs": []
    },
    {
      "cell_type": "markdown",
      "source": [
        "4. Visualizing the Correlation"
      ],
      "metadata": {
        "id": "8HjQzsx2n6xm"
      }
    },
    {
      "cell_type": "code",
      "source": [
        "plt.scatter(X_train, y_train, color = 'red')\n",
        "plt.plot(X_train, regressor.predict(X_train), color = 'blue')\n",
        "plt.title('Salary vs Experience (Training set)')\n",
        "plt.xlabel('Years of Experience')\n",
        "plt.ylabel('Salary')\n",
        "plt.show()"
      ],
      "metadata": {
        "colab": {
          "base_uri": "https://localhost:8080/",
          "height": 295
        },
        "id": "oA2mYqGkoB_l",
        "outputId": "6dd3cebd-1225-438e-ed8a-158e46a6e9c4"
      },
      "execution_count": 21,
      "outputs": [
        {
          "output_type": "display_data",
          "data": {
            "text/plain": [
              "<Figure size 432x288 with 1 Axes>"
            ],
            "image/png": "[encoded data removed]"
          },
          "metadata": {
            "needs_background": "light"
          }
        }
      ]
    },
    {
      "cell_type": "markdown",
      "source": [
        "5. Visualizing the Test Set Results"
      ],
      "metadata": {
        "id": "-BhFba2poOcm"
      }
    },
    {
      "cell_type": "code",
      "source": [
        "plt.scatter(X_test, y_test, color = 'blue')\n",
        "plt.plot(X_train, regressor.predict(X_train), color = 'black')\n",
        "plt.title('Salary vs Experience (Training set)')\n",
        "plt.xlabel('Years of Experience')\n",
        "plt.ylabel('Salary')\n",
        "plt.show()"
      ],
      "metadata": {
        "colab": {
          "base_uri": "https://localhost:8080/",
          "height": 295
        },
        "id": "Qv4LlyfeqvFX",
        "outputId": "3aa6318e-4883-4386-bd9d-6c9ee8370d1e"
      },
      "execution_count": 23,
      "outputs": [
        {
          "output_type": "display_data",
          "data": {
            "text/plain": [
              "<Figure size 432x288 with 1 Axes>"
            ],
            "image/png": "[encoded data removed]"
          },
          "metadata": {
            "needs_background": "light"
          }
        }
      ]
    },
    {
      "cell_type": "markdown",
      "source": [
        "6. Model Evaluation for Test Dataset"
      ],
      "metadata": {
        "id": "1vnzMXCUrk32"
      }
    },
    {
      "cell_type": "code",
      "source": [
        "from sklearn import metrics\n",
        "# model evaluation for testing set\n",
        "mae = metrics.mean_absolute_error(y_test, y_pred)\n",
        "mse = metrics.mean_squared_error(y_test, y_pred)\n",
        "r2 = metrics.r2_score(y_test, y_pred)\n",
        "print(\"The model performance for testing set\")\n",
        "print(\"--------------------------------------\")\n",
        "print('MAE is %.2f'% mae)\n",
        "print('MSE is %.2f'% mse)\n",
        "print('R2 score is %.2f'% r2)"
      ],
      "metadata": {
        "colab": {
          "base_uri": "https://localhost:8080/"
        },
        "id": "0_tC5GRmroRM",
        "outputId": "976d7ac2-3f6f-464f-9db4-f050613cb88b"
      },
      "execution_count": 24,
      "outputs": [
        {
          "output_type": "stream",
          "name": "stdout",
          "text": [
            "The model performance for testing set\n",
            "--------------------------------------\n",
            "MAE is 3426.43\n",
            "MSE is 21026037.33\n",
            "R2 score is 0.97\n"
          ]
        }
      ]
    }
  ]
}