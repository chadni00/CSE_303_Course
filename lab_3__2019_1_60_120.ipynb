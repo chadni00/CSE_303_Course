{
  "nbformat": 4,
  "nbformat_minor": 0,
  "metadata": {
    "colab": {
      "name": "lab_3__2019_1_60_120.ipynb",
      "provenance": [],
      "collapsed_sections": [],
      "include_colab_link": true
    },
    "kernelspec": {
      "name": "python3",
      "display_name": "Python 3"
    },
    "language_info": {
      "name": "python"
    }
  },
  "cells": [
    {
      "cell_type": "markdown",
      "metadata": {
        "id": "view-in-github",
        "colab_type": "text"
      },
      "source": [
        "<a href=\"https://colab.research.google.com/github/chadni00/CSE_303_Course/blob/main/lab_3__2019_1_60_120.ipynb\" target=\"_parent\"><img src=\"https://colab.research.google.com/assets/colab-badge.svg\" alt=\"Open In Colab\"/></a>"
      ]
    },
    {
      "cell_type": "markdown",
      "source": [
        "Assignment – Lab 3\n",
        "\n",
        "Student Name: Jahani Shabnam Chadni\n",
        "\n",
        "Student ID: 2019-1-60-120\n",
        "\n",
        "sec :3\n",
        "\n",
        "\n",
        "\n"
      ],
      "metadata": {
        "id": "4EPm51fg_r8N"
      }
    },
    {
      "cell_type": "code",
      "execution_count": null,
      "metadata": {
        "id": "pG2ipq_R8uh7"
      },
      "outputs": [],
      "source": [
        "import pandas as pd"
      ]
    },
    {
      "cell_type": "code",
      "source": [
        "df = pd.read_csv('iris.csv')\n",
        "print(df.describe())"
      ],
      "metadata": {
        "colab": {
          "base_uri": "https://localhost:8080/"
        },
        "id": "HHnEnY4QB5y2",
        "outputId": "25b1bece-c9bd-4812-a8bf-e5c42fc1689a"
      },
      "execution_count": null,
      "outputs": [
        {
          "output_type": "stream",
          "name": "stdout",
          "text": [
            "       sepal.length  sepal.width  petal.length  petal.width\n",
            "count    150.000000   150.000000    150.000000   150.000000\n",
            "mean       5.843333     3.057333      3.758000     1.199333\n",
            "std        0.828066     0.435866      1.765298     0.762238\n",
            "min        4.300000     2.000000      1.000000     0.100000\n",
            "25%        5.100000     2.800000      1.600000     0.300000\n",
            "50%        5.800000     3.000000      4.350000     1.300000\n",
            "75%        6.400000     3.300000      5.100000     1.800000\n",
            "max        7.900000     4.400000      6.900000     2.500000\n"
          ]
        }
      ]
    },
    {
      "cell_type": "markdown",
      "source": [
        "Problem 7"
      ],
      "metadata": {
        "id": "TQO2LfU7CTr1"
      }
    },
    {
      "cell_type": "markdown",
      "source": [
        "1. Boxplot\n",
        "\n",
        "\n",
        "\n",
        "*  df.boxplot(column=['col_name_1','col_name_2'])\n",
        "\n",
        "\n"
      ],
      "metadata": {
        "id": "Xh-bo16yAnMK"
      }
    },
    {
      "cell_type": "code",
      "source": [
        "df.boxplot(column=['sepal.width','petal.width'])"
      ],
      "metadata": {
        "colab": {
          "base_uri": "https://localhost:8080/",
          "height": 282
        },
        "id": "zkMHZPCo-IPY",
        "outputId": "8d3a9167-7949-4b56-b083-65788c2708ac"
      },
      "execution_count": null,
      "outputs": [
        {
          "output_type": "execute_result",
          "data": {
            "text/plain": [
              "<matplotlib.axes._subplots.AxesSubplot at 0x7fd56b0c45d0>"
            ]
          },
          "metadata": {},
          "execution_count": 10
        },
        {
          "output_type": "display_data",
          "data": {
            "text/plain": [
              "<Figure size 432x288 with 1 Axes>"
            ],
            "image/png": "[encoded data removed]"
          },
          "metadata": {
            "needs_background": "light"
          }
        }
      ]
    },
    {
      "cell_type": "markdown",
      "source": [
        "2. Histogram\n",
        "\n",
        "*   df.hist(column = [‘col_name’], bins= 5)\n",
        "\n",
        "\n"
      ],
      "metadata": {
        "id": "-U9ZwXyEAwCX"
      }
    },
    {
      "cell_type": "code",
      "source": [
        "df.hist(column = ['sepal.length','petal.length'], bins= 5)"
      ],
      "metadata": {
        "colab": {
          "base_uri": "https://localhost:8080/",
          "height": 333
        },
        "id": "KfpoGjUKAhrF",
        "outputId": "a3fbffe0-9de9-4ad1-d64e-cb183d96289d"
      },
      "execution_count": null,
      "outputs": [
        {
          "output_type": "execute_result",
          "data": {
            "text/plain": [
              "array([[<matplotlib.axes._subplots.AxesSubplot object at 0x7fd56af8bc50>,\n",
              "        <matplotlib.axes._subplots.AxesSubplot object at 0x7fd56af417d0>]],\n",
              "      dtype=object)"
            ]
          },
          "metadata": {},
          "execution_count": 11
        },
        {
          "output_type": "display_data",
          "data": {
            "text/plain": [
              "<Figure size 432x288 with 2 Axes>"
            ],
            "image/png": "[encoded data removed]"
          },
          "metadata": {
            "needs_background": "light"
          }
        }
      ]
    },
    {
      "cell_type": "markdown",
      "source": [
        "3. Bar Chart\n",
        "\n",
        "*   df['col_name'].value_counts().plot(kind = 'bar')\n",
        "\n",
        "\n"
      ],
      "metadata": {
        "id": "rbQlGkc7BEc3"
      }
    },
    {
      "cell_type": "code",
      "source": [
        "df['variety'].value_counts().plot(kind = 'bar')"
      ],
      "metadata": {
        "colab": {
          "base_uri": "https://localhost:8080/",
          "height": 322
        },
        "id": "ig0upmhOBIDf",
        "outputId": "8365ae01-0500-477e-f7e3-642d287e2757"
      },
      "execution_count": null,
      "outputs": [
        {
          "output_type": "execute_result",
          "data": {
            "text/plain": [
              "<matplotlib.axes._subplots.AxesSubplot at 0x7fd56b13f7d0>"
            ]
          },
          "metadata": {},
          "execution_count": 7
        },
        {
          "output_type": "display_data",
          "data": {
            "text/plain": [
              "<Figure size 432x288 with 1 Axes>"
            ],
            "image/png": "[encoded data removed]"
          },
          "metadata": {
            "needs_background": "light"
          }
        }
      ]
    },
    {
      "cell_type": "markdown",
      "source": [
        "4. Pie Chart\n",
        "\n",
        "*   df['col_name'].value_counts().plot(kind = 'pie')\n",
        "\n",
        "\n"
      ],
      "metadata": {
        "id": "a3UeIb5hBKM9"
      }
    },
    {
      "cell_type": "code",
      "source": [
        "df['variety'].value_counts().plot(kind='pie')"
      ],
      "metadata": {
        "colab": {
          "base_uri": "https://localhost:8080/",
          "height": 266
        },
        "id": "58f-fv3wBKrj",
        "outputId": "ccbcb910-c247-4dd2-8570-40e49bc329e6"
      },
      "execution_count": null,
      "outputs": [
        {
          "output_type": "execute_result",
          "data": {
            "text/plain": [
              "<matplotlib.axes._subplots.AxesSubplot at 0x7fd56b160a50>"
            ]
          },
          "metadata": {},
          "execution_count": 8
        },
        {
          "output_type": "display_data",
          "data": {
            "text/plain": [
              "<Figure size 432x288 with 1 Axes>"
            ],
            "image/png": "[encoded data removed]"
          },
          "metadata": {}
        }
      ]
    },
    {
      "cell_type": "markdown",
      "source": [
        "5. Scatter Plot\n",
        "\n",
        "*  df.plot.scatter(x='col_name_1',y='col_name_2')\n",
        "\n",
        "\n"
      ],
      "metadata": {
        "id": "ZiOx8dwmBRZ4"
      }
    },
    {
      "cell_type": "code",
      "source": [
        "df.plot.scatter(x='sepal.width', y = 'petal.length')"
      ],
      "metadata": {
        "colab": {
          "base_uri": "https://localhost:8080/",
          "height": 296
        },
        "id": "iC8J6EkoBRqT",
        "outputId": "a08b9396-4ead-4804-ecd1-df9d6c324c8c"
      },
      "execution_count": null,
      "outputs": [
        {
          "output_type": "execute_result",
          "data": {
            "text/plain": [
              "<matplotlib.axes._subplots.AxesSubplot at 0x7fd56b086c10>"
            ]
          },
          "metadata": {},
          "execution_count": 9
        },
        {
          "output_type": "display_data",
          "data": {
            "text/plain": [
              "<Figure size 432x288 with 1 Axes>"
            ],
            "image/png": "[encoded data removed]"
          },
          "metadata": {
            "needs_background": "light"
          }
        }
      ]
    }
  ]
}