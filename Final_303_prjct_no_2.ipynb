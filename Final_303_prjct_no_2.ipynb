{
  "nbformat": 4,
  "nbformat_minor": 0,
  "metadata": {
    "colab": {
      "name": "Final 303 prjct no 2.ipynb",
      "provenance": [],
      "collapsed_sections": [],
      "authorship_tag": "ABX9TyPfXoDADG5yCMvzc/KOZDbt",
      "include_colab_link": true
    },
    "kernelspec": {
      "name": "python3",
      "display_name": "Python 3"
    },
    "language_info": {
      "name": "python"
    }
  },
  "cells": [
    {
      "cell_type": "markdown",
      "metadata": {
        "id": "view-in-github",
        "colab_type": "text"
      },
      "source": [
        "<a href=\"https://colab.research.google.com/github/chadni00/CSE_303_Course/blob/main/Final_303_prjct_no_2.ipynb\" target=\"_parent\"><img src=\"https://colab.research.google.com/assets/colab-badge.svg\" alt=\"Open In Colab\"/></a>"
      ]
    },
    {
      "cell_type": "code",
      "execution_count": 3,
      "metadata": {
        "id": "b1XMjNBb0cSg"
      },
      "outputs": [],
      "source": [
        "import matplotlib.pyplot as plt\n",
        "import numpy as np\n",
        "import pandas as pd\n",
        "import math\n",
        "from sklearn.model_selection import train_test_split\n",
        "from mpl_toolkits.mplot3d.art3d import Poly3DCollection"
      ]
    },
    {
      "cell_type": "code",
      "source": [
        "dataset = pd.read_csv('/content/RealEstate.csv') \n",
        "print(dataset)"
      ],
      "metadata": {
        "colab": {
          "base_uri": "https://localhost:8080/"
        },
        "id": "NQA602Y70-6k",
        "outputId": "ba230d37-8a90-4664-d28a-42a4be4c71d9"
      },
      "execution_count": 4,
      "outputs": [
        {
          "output_type": "stream",
          "name": "stdout",
          "text": [
            "      No  X1 transaction date  X2 house age  \\\n",
            "0      1             2012.917          32.0   \n",
            "1      2             2012.917          19.5   \n",
            "2      3             2013.583          13.3   \n",
            "3      4             2013.500          13.3   \n",
            "4      5             2012.833           5.0   \n",
            "..   ...                  ...           ...   \n",
            "409  410             2013.000          13.7   \n",
            "410  411             2012.667           5.6   \n",
            "411  412             2013.250          18.8   \n",
            "412  413             2013.000           8.1   \n",
            "413  414             2013.500           6.5   \n",
            "\n",
            "     X3 distance to the nearest MRT station  X4 number of convenience stores  \\\n",
            "0                                  84.87882                               10   \n",
            "1                                 306.59470                                9   \n",
            "2                                 561.98450                                5   \n",
            "3                                 561.98450                                5   \n",
            "4                                 390.56840                                5   \n",
            "..                                      ...                              ...   \n",
            "409                              4082.01500                                0   \n",
            "410                                90.45606                                9   \n",
            "411                               390.96960                                7   \n",
            "412                               104.81010                                5   \n",
            "413                                90.45606                                9   \n",
            "\n",
            "     X5 latitude  X6 longitude  Y house price of unit area  \n",
            "0       24.98298     121.54024                        37.9  \n",
            "1       24.98034     121.53951                        42.2  \n",
            "2       24.98746     121.54391                        47.3  \n",
            "3       24.98746     121.54391                        54.8  \n",
            "4       24.97937     121.54245                        43.1  \n",
            "..           ...           ...                         ...  \n",
            "409     24.94155     121.50381                        15.4  \n",
            "410     24.97433     121.54310                        50.0  \n",
            "411     24.97923     121.53986                        40.6  \n",
            "412     24.96674     121.54067                        52.5  \n",
            "413     24.97433     121.54310                        63.9  \n",
            "\n",
            "[414 rows x 8 columns]\n"
          ]
        }
      ]
    },
    {
      "cell_type": "code",
      "source": [
        "X_train, X_test, X2_train, X2_test, Y_train, Y_test= train_test_split(dataset.loc[:,'X3 distance to the nearest MRT station'],dataset.loc[:,'X4 number of convenience stores'],dataset.loc[:,'Y house price of unit area'], test_size = 0.25, random_state = 0)"
      ],
      "metadata": {
        "id": "xDBVBOl51A94"
      },
      "execution_count": 5,
      "outputs": []
    },
    {
      "cell_type": "code",
      "source": [
        "X1 = np.array(X_train)\n",
        "X2 = np.array(X2_train)\n",
        "Y  = np.array(Y_train)\n",
        "print(dataset) "
      ],
      "metadata": {
        "colab": {
          "base_uri": "https://localhost:8080/"
        },
        "id": "Sbvx0GFI1IdK",
        "outputId": "7507352f-2d04-42c9-8bb5-5d94dfe73125"
      },
      "execution_count": 6,
      "outputs": [
        {
          "output_type": "stream",
          "name": "stdout",
          "text": [
            "      No  X1 transaction date  X2 house age  \\\n",
            "0      1             2012.917          32.0   \n",
            "1      2             2012.917          19.5   \n",
            "2      3             2013.583          13.3   \n",
            "3      4             2013.500          13.3   \n",
            "4      5             2012.833           5.0   \n",
            "..   ...                  ...           ...   \n",
            "409  410             2013.000          13.7   \n",
            "410  411             2012.667           5.6   \n",
            "411  412             2013.250          18.8   \n",
            "412  413             2013.000           8.1   \n",
            "413  414             2013.500           6.5   \n",
            "\n",
            "     X3 distance to the nearest MRT station  X4 number of convenience stores  \\\n",
            "0                                  84.87882                               10   \n",
            "1                                 306.59470                                9   \n",
            "2                                 561.98450                                5   \n",
            "3                                 561.98450                                5   \n",
            "4                                 390.56840                                5   \n",
            "..                                      ...                              ...   \n",
            "409                              4082.01500                                0   \n",
            "410                                90.45606                                9   \n",
            "411                               390.96960                                7   \n",
            "412                               104.81010                                5   \n",
            "413                                90.45606                                9   \n",
            "\n",
            "     X5 latitude  X6 longitude  Y house price of unit area  \n",
            "0       24.98298     121.54024                        37.9  \n",
            "1       24.98034     121.53951                        42.2  \n",
            "2       24.98746     121.54391                        47.3  \n",
            "3       24.98746     121.54391                        54.8  \n",
            "4       24.97937     121.54245                        43.1  \n",
            "..           ...           ...                         ...  \n",
            "409     24.94155     121.50381                        15.4  \n",
            "410     24.97433     121.54310                        50.0  \n",
            "411     24.97923     121.53986                        40.6  \n",
            "412     24.96674     121.54067                        52.5  \n",
            "413     24.97433     121.54310                        63.9  \n",
            "\n",
            "[414 rows x 8 columns]\n"
          ]
        }
      ]
    },
    {
      "cell_type": "code",
      "source": [
        "def Len(arr):\n",
        "\n",
        "    sum = 0\n",
        "\n",
        "    for i in arr:\n",
        "        sum = sum + 1    \n",
        "    return sum"
      ],
      "metadata": {
        "id": "MZmLP6hg1JPA"
      },
      "execution_count": 7,
      "outputs": []
    },
    {
      "cell_type": "code",
      "source": [
        "def SUM(arr):\n",
        "\n",
        "    sum = 0\n",
        "\n",
        "    for i in arr:\n",
        "        sum = sum + i\n",
        "    return sum"
      ],
      "metadata": {
        "id": "ZLKhYV0J1Lih"
      },
      "execution_count": 8,
      "outputs": []
    },
    {
      "cell_type": "code",
      "source": [
        "def Mean(x):\n",
        "\n",
        "  return  SUM(x)/Len(x)"
      ],
      "metadata": {
        "id": "Xn9xqALB1bUx"
      },
      "execution_count": 9,
      "outputs": []
    },
    {
      "cell_type": "code",
      "source": [
        "def Find_abs(value):\n",
        "  \n",
        "  return (value**2)**(0.5)"
      ],
      "metadata": {
        "id": "-JASKmUU1Nd4"
      },
      "execution_count": 10,
      "outputs": []
    },
    {
      "cell_type": "code",
      "source": [
        "def Find_var(arr):\n",
        "\n",
        "  tot = 0\n",
        "  avg_x = Mean(arr)\n",
        "\n",
        "  for i in range(Len(arr)):\n",
        "    tot = tot + math.pow(arr[i]-avg_x,2)\n",
        "  find_var = tot/(Len(arr)-1)\n",
        "\n",
        "  return find_var"
      ],
      "metadata": {
        "id": "DWXVjDr41QvM"
      },
      "execution_count": 11,
      "outputs": []
    },
    {
      "cell_type": "code",
      "source": [
        "def Find_cov(X,Y):\n",
        "\n",
        "  Avg_x = Mean(X)\n",
        "  Avg_y = Mean(Y)\n",
        "\n",
        "  tot = 0\n",
        "\n",
        "  for i in range(Len(X)):\n",
        "    x1 = X[i]\n",
        "    y1 = Y[i]\n",
        "    tot = tot + (x1-Avg_x)*(y1-Avg_y)\n",
        "  covvv = tot/(Len(X)-1)\n",
        "\n",
        "  return covvv"
      ],
      "metadata": {
        "id": "6HprTVjt1Rox"
      },
      "execution_count": 12,
      "outputs": []
    },
    {
      "cell_type": "code",
      "source": [
        "def Find_b(X1,X2,Y):\n",
        "  \n",
        "  var = Find_var(X2)\n",
        "  cov = Find_cov(X1,X2)\n",
        "  \n",
        "  b = Find_cov(X1,Y)*var -  Find_cov(X2,Y)*cov\n",
        "  b = b/(Find_var(X1)*var   -  Find_cov(X1,X2)*cov)\n",
        "\n",
        "  return b"
      ],
      "metadata": {
        "id": "44vxNoaV1V75"
      },
      "execution_count": 13,
      "outputs": []
    },
    {
      "cell_type": "code",
      "source": [
        "def a_(X1,X2,Y):\n",
        "\n",
        "  a = Mean(Y)\n",
        "  b = Find_b(X1,X2,Y)*Mean(X1)\n",
        "  c = Find_b(X2,X1,Y)*Mean(X2)\n",
        "\n",
        "  return  a-b-c"
      ],
      "metadata": {
        "id": "4KwlUaXY1Yyw"
      },
      "execution_count": 14,
      "outputs": []
    },
    {
      "cell_type": "code",
      "source": [
        "def Predicted_Y(X1,X2,Y):\n",
        "\n",
        "  Predicted_Y = []\n",
        "\n",
        "  a = a_(X1,X2,Y)\n",
        "  b = Find_b(X1,X2,Y)\n",
        "  c = Find_b(X2,X1,Y)\n",
        "\n",
        "  for i in range(Len(X1)):\n",
        "    xx = X1[i]\n",
        "    yy = X2[i]\n",
        "    Predicted_Y.append(a+b*xx+c*yy)\n",
        "\n",
        "  return np.array(Predicted_Y)"
      ],
      "metadata": {
        "id": "5McALDhh1ZgR"
      },
      "execution_count": 15,
      "outputs": []
    },
    {
      "cell_type": "code",
      "source": [
        "def Find_r2(X1,X2,Y):\n",
        "\n",
        "  arr = Predicted_Y(X1,X2,Y)\n",
        "  Avg = Mean(Y)\n",
        "\n",
        "  Tot1 = 0\n",
        "  Tot2 = 0\n",
        "\n",
        "  for i in range(Len(Y)):\n",
        "    xx = Y[i]\n",
        "    Tot1 = Tot1 + math.pow(arr[i]-xx,2)\n",
        "    Tot2 = Tot2 + math.pow(xx-Avg,2)\n",
        "\n",
        "  return 1-(Tot1/Tot2)"
      ],
      "metadata": {
        "id": "3EtUYlfQ1daY"
      },
      "execution_count": 16,
      "outputs": []
    },
    {
      "cell_type": "code",
      "source": [
        "def Find_mse(X1,X2,Y):\n",
        "  \n",
        "  arr = Predicted_Y(X1,X2,Y)\n",
        "  Tot = 0\n",
        "\n",
        "  for i in range(Len(Y)):\n",
        "    xx = Y[i]\n",
        "    Tot = Tot + math.pow(arr[i]-xx,2)\n",
        "  mse = Tot/Len(Y)\n",
        "\n",
        "  return mse"
      ],
      "metadata": {
        "id": "p-el3Yo81fiy"
      },
      "execution_count": 17,
      "outputs": []
    },
    {
      "cell_type": "code",
      "source": [
        "def Find_mae(X1,X2,Y):\n",
        "  \n",
        "  arr = Predicted_Y(X1,X2,Y)\n",
        "  Sum = 0\n",
        "\n",
        "  for i in range(Len(Y)):\n",
        "    Sum = Sum + Find_abs(arr[i]-Y[i])\n",
        "  mae = Sum/Len(Y)\n",
        "  return mae"
      ],
      "metadata": {
        "id": "xd_JqNQo1hjQ"
      },
      "execution_count": 18,
      "outputs": []
    },
    {
      "cell_type": "code",
      "source": [
        "print('Mean Absolute Error = %.4f'%  Find_mae(X1,X2,Y))\n",
        "print('Mean Squared Error = %.4f'%  Find_mse(X1,X2,Y))\n",
        "print('R2 score = %.2f'%  Find_r2(X1,X2,Y))"
      ],
      "metadata": {
        "colab": {
          "base_uri": "https://localhost:8080/"
        },
        "id": "xa5yh-GQ1jRQ",
        "outputId": "03d7c184-f0b6-485e-aae3-dfd587e2a2eb"
      },
      "execution_count": 19,
      "outputs": [
        {
          "output_type": "stream",
          "name": "stdout",
          "text": [
            "Mean Absolute Error = 6.9963\n",
            "Mean Squared Error = 96.0027\n",
            "R2 score = 0.49\n"
          ]
        }
      ]
    },
    {
      "cell_type": "code",
      "source": [
        "b_1 = Find_b(X1,X2,Y)\n",
        "b_2 = Find_b(X2,X1,Y)\n",
        "a = Mean(Y) - b_1*Mean(X1)-b_2*Mean(X2)\n",
        "\n",
        "Equ = a+b_1*X1+b_2*X2\n",
        "fig = plt.figure()\n",
        "\n",
        "a_x = fig.add_subplot(111, projection='3d')\n",
        "a_x.scatter3D(X1, X2, Y, c=Y, cmap='Reds');\n",
        "\n",
        "vertices = [list(zip(X1,X2,Y))]\n",
        "\n",
        "poly = Poly3DCollection(vertices, alpha=0.8)\n",
        "a_x.add_collection3d(poly)\n",
        "\n",
        "\n",
        "plt.title(\"Multivariate_Linear_Rgression_Model\",fontsize=14,color=\"Green\")\n",
        "plt.show()"
      ],
      "metadata": {
        "colab": {
          "base_uri": "https://localhost:8080/",
          "height": 248
        },
        "id": "x9v_UWYH1lNA",
        "outputId": "a73f3922-4794-406b-9d2b-0bc38f0b3f12"
      },
      "execution_count": 20,
      "outputs": [
        {
          "output_type": "display_data",
          "data": {
            "text/plain": [
              "<Figure size 432x288 with 1 Axes>"
            ],
            "image/png": "[encoded data removed]"
          },
          "metadata": {
            "needs_background": "light"
          }
        }
      ]
    }
  ]
}