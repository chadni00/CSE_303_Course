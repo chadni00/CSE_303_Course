{
  "nbformat": 4,
  "nbformat_minor": 0,
  "metadata": {
    "colab": {
      "name": "Final 303 prjct no 1.ipynb",
      "provenance": [],
      "collapsed_sections": [],
      "authorship_tag": "ABX9TyOYpnmjYzGfpKmLkjxNGlsk",
      "include_colab_link": true
    },
    "kernelspec": {
      "name": "python3",
      "display_name": "Python 3"
    },
    "language_info": {
      "name": "python"
    }
  },
  "cells": [
    {
      "cell_type": "markdown",
      "metadata": {
        "id": "view-in-github",
        "colab_type": "text"
      },
      "source": [
        "<a href=\"https://colab.research.google.com/github/chadni00/CSE_303_Course/blob/main/Final_303_prjct_no_1.ipynb\" target=\"_parent\"><img src=\"https://colab.research.google.com/assets/colab-badge.svg\" alt=\"Open In Colab\"/></a>"
      ]
    },
    {
      "cell_type": "code",
      "execution_count": 1,
      "metadata": {
        "colab": {
          "base_uri": "https://localhost:8080/"
        },
        "id": "UULLr3QoB2Gy",
        "outputId": "6a1ffabe-de55-4c7d-fedb-f09bf8480c52"
      },
      "outputs": [
        {
          "output_type": "stream",
          "name": "stdout",
          "text": [
            "[[-2.0, 2.0, -5.0], [1.5, -1.0, 2.5], [1.0, -1.0, 3.0]]\n"
          ]
        }
      ],
      "source": [
        "Mat = [[1, 2, 0],\n",
        "      [4, 2, 5],\n",
        "      [1, 0, 2]]\n",
        "det = Mat[0][0] * ((Mat[1][1] * Mat[2][2]) - (Mat[1][2] * Mat[2][1])) - \\\n",
        "      Mat[0][1] * ((Mat[1][0] * Mat[2][2]) - (Mat[1][2] * Mat[2][0])) + \\\n",
        "      Mat[0][2] * ( (Mat[1][0] * Mat[2][1]) - (Mat[1][1] * Mat[2][0]))\n",
        "\n",
        "Cofactor1 = [(Mat[1][1] * Mat[2][2]) - (Mat[1][2] * Mat[2][1]), - ((Mat[1][0] * Mat[2][2])\n",
        "            - (Mat[1][2] * Mat[2][0])),(Mat[1][0] * Mat[2][1]) - (Mat[1][1] * Mat[2][0])]\n",
        "\n",
        "Cofactor2 = [-((Mat[0][1] * Mat[2][2]) - (Mat[0][2] * Mat[2][1])),(Mat[0][0] * Mat[2][2])\n",
        "             - (Mat[0][2] * Mat[2][0]),-((Mat[0][0] * Mat[2][1]) - (Mat[0][1] * Mat[2][0]))]\n",
        "\n",
        "Cofactor3 = [(Mat[0][1] * Mat[1][2]) - (Mat[0][2] * Mat[1][1]),-((Mat[0][0] * Mat[1][2])\n",
        "            - (Mat[0][2] * Mat[1][0])),(Mat[0][0] * Mat[1][1]) - (Mat[0][1] * Mat[1][0])]\n",
        "\n",
        "inverseMatrix_Mat = [[1 / det * (Cofactor1[0]), 1 / det * (Cofactor2[0]), 1 / det * (Cofactor3[0])],\n",
        "                    [1 / det * (Cofactor1[1]), 1 / det * (Cofactor2[1]), 1 / det * (Cofactor3[1])],\n",
        "                    [1 / det * (Cofactor1[2]), 1 / det * (Cofactor2[2]), 1 / det * (Cofactor3[2])]]\n",
        "\n",
        "print(inverseMatrix_Mat)"
      ]
    }
  ]
}