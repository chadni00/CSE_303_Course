{
  "nbformat": 4,
  "nbformat_minor": 0,
  "metadata": {
    "colab": {
      "name": "lab_1__2019_1_60_120_exercise_s.ipynb",
      "provenance": [],
      "collapsed_sections": [],
      "include_colab_link": true
    },
    "kernelspec": {
      "name": "python3",
      "display_name": "Python 3"
    },
    "language_info": {
      "name": "python"
    }
  },
  "cells": [
    {
      "cell_type": "markdown",
      "metadata": {
        "id": "view-in-github",
        "colab_type": "text"
      },
      "source": [
        "<a href=\"https://colab.research.google.com/github/chadni00/CSE_303_Course/blob/main/lab_1__2019_1_60_120_exercise_s.ipynb\" target=\"_parent\"><img src=\"https://colab.research.google.com/assets/colab-badge.svg\" alt=\"Open In Colab\"/></a>"
      ]
    },
    {
      "cell_type": "markdown",
      "source": [
        "problem 1"
      ],
      "metadata": {
        "id": "JiUQ5ncAjG3x"
      }
    },
    {
      "cell_type": "code",
      "source": [
        "\n",
        "# Student ID: 2019-1-60-120\n",
        "# Student Name: Jahani Shabnam Chadni\n",
        "# Assignment – Lab 1 \n",
        "\n",
        "print( \"Solution of problem : 1\")\n",
        "print( \"Student ID: 2019-1-60-120\\n\")\n",
        "\n",
        "\n",
        "\n",
        "a = int(input(\"Enter a number : \"))\n",
        "b = int(input(\"Enter a number : \"))\n",
        "c=a*b\n",
        "def d(a,b):\n",
        " \n",
        "    if (c>1000):\n",
        "            return (a+b)\n",
        "    else:\n",
        "            return (c)\n",
        "        \n",
        "print(d(a,b))\n"
      ],
      "metadata": {
        "colab": {
          "base_uri": "https://localhost:8080/"
        },
        "id": "tEa3nVfqkynZ",
        "outputId": "cc583033-56ad-4296-fe98-bca4fd52071b"
      },
      "execution_count": null,
      "outputs": [
        {
          "output_type": "stream",
          "name": "stdout",
          "text": [
            "Solution of problem : 1\n",
            "Student ID: 2019-1-60-120\n",
            "\n",
            "Enter a number : 1000\n",
            "Enter a number : 1000\n",
            "2000\n"
          ]
        }
      ]
    },
    {
      "cell_type": "markdown",
      "source": [
        "problem 2"
      ],
      "metadata": {
        "id": "FCuC3R9mvsXH"
      }
    },
    {
      "cell_type": "code",
      "source": [
        "\n",
        "print( \"Solution of problem : 2\")\n",
        "print( \"Student ID: 2019-1-60-120\\n\")\n",
        "\n",
        "\n",
        "rad=float(input(\"Enter a radius value : \"))\n",
        "pi=3.1416\n",
        "area=pi*rad*rad\n",
        "perimeter=2*pi*rad\n",
        "\n",
        "print(\"Area of circle :%0.2f \"% area)\n",
        "print(\"Perimeter of circle :%0.2f\"% perimeter)\n",
        "\n",
        "\n"
      ],
      "metadata": {
        "colab": {
          "base_uri": "https://localhost:8080/"
        },
        "id": "7Wod7A4tvvY0",
        "outputId": "7c529f55-adf3-45e6-b12e-c5e3a0c4e335"
      },
      "execution_count": null,
      "outputs": [
        {
          "output_type": "stream",
          "name": "stdout",
          "text": [
            "Solution of problem : 2\n",
            "Student ID: 2019-1-60-120\n",
            "\n",
            "Enter a radius value : 2.345\n",
            "Area of circle :17.28 \n",
            "Perimeter of circle :14.73\n"
          ]
        }
      ]
    },
    {
      "cell_type": "markdown",
      "source": [
        "problem 3\n"
      ],
      "metadata": {
        "id": "PuzozQt82qnG"
      }
    },
    {
      "cell_type": "code",
      "source": [
        "\n",
        "print( \"Solution of problem : 3\")\n",
        "print( \"Student ID: 2019-1-60-120\\n\")\n",
        "\n",
        "\n",
        "\n",
        "def compound_interest_2019_1_60_120(p,r,t):\n",
        "    return p*(pow((1+r/100),t))\n",
        "\n",
        "p = float(input(\"Enter the principle amount : \"))\n",
        "r = float(input(\"Enter the interest rate : \")) \n",
        "t = int(input(\"Enter time in years: \"))\n",
        "\n",
        "print(\"the compound interest =  %0.2f \"%compound_interest_2019_1_60_120(p,r,t))\n"
      ],
      "metadata": {
        "colab": {
          "base_uri": "https://localhost:8080/"
        },
        "id": "UPSVhJHS2s6b",
        "outputId": "8d2bedb4-fc45-4b3e-ce6b-aa4b64a020eb"
      },
      "execution_count": null,
      "outputs": [
        {
          "output_type": "stream",
          "name": "stdout",
          "text": [
            "Solution of problem : 3\n",
            "Student ID: 2019-1-60-120\n",
            "\n",
            "Enter the principle amount : 100\n",
            "Enter the interest rate : 20\n",
            "Enter time in years: 40\n",
            "the compound interest =  146977.16 \n"
          ]
        }
      ]
    },
    {
      "cell_type": "markdown",
      "source": [
        "problem 4"
      ],
      "metadata": {
        "id": "kAnj_ui5DRqw"
      }
    },
    {
      "cell_type": "code",
      "source": [
        "print( \"Solution of problem : 4\")\n",
        "print( \"Student ID: 2019-1-60-120\\n\")\n",
        "\n",
        "\n",
        "\n",
        "N = int(input(\"Enter a number: \"))\n",
        "\n",
        "sum = 0\n",
        "\n",
        "for i in range(1,N+1):\n",
        "    s=pow(i, 2)\n",
        "    sum +=s\n",
        "\n",
        "print(\"calculate the value : \" ,sum)\n",
        "\n",
        "\n"
      ],
      "metadata": {
        "colab": {
          "base_uri": "https://localhost:8080/"
        },
        "id": "CPVMmJooDTkn",
        "outputId": "3bbfdd62-fef4-4188-9250-d30b26df3667"
      },
      "execution_count": null,
      "outputs": [
        {
          "output_type": "stream",
          "name": "stdout",
          "text": [
            "Solution of problem : 4\n",
            "Student ID: 2019-1-60-120\n",
            "\n",
            "Enter a number: 6\n",
            "calculate the value :  91\n"
          ]
        }
      ]
    },
    {
      "cell_type": "markdown",
      "source": [
        "problem 5"
      ],
      "metadata": {
        "id": "efnTynJfFWd7"
      }
    },
    {
      "cell_type": "code",
      "source": [
        "print( \"Solution of problem : 5\")\n",
        "print( \"Student ID: 2019-1-60-120\\n\")\n",
        "\n",
        "def prime_find_2019_1_60_120(N):\n",
        "    for i in range(2, int(N**0.5)):\n",
        "        if(N%i==0):\n",
        "             return 0\n",
        "             \n",
        "    else:\n",
        "      return 1\n",
        "\n",
        "N = int(input(\"Enter a number : \"))\n",
        "f =prime_find_2019_1_60_120(N)\n",
        "\n",
        "if(N==1):\n",
        "    print(\"Not Prime\")\n",
        "elif(N==2):\n",
        "    print(\"Prime\")\n",
        "else:\n",
        "    if(f==0):\n",
        "            print(\"This is not a prime number\")\n",
        "    else:\n",
        "            print(\"This is a prime number\")\n",
        "\n",
        "#if(prime_find_2019_1_60_120(N)==0):\n",
        "  # print(\"Prime\")\n",
        "#else:\n",
        "  # print(\"Not Prime\")  \n",
        "\n",
        "\n",
        "\n"
      ],
      "metadata": {
        "colab": {
          "base_uri": "https://localhost:8080/"
        },
        "id": "FdhIOKhOFWvZ",
        "outputId": "2216ffbe-b7ac-48fd-9284-a585e224b5d9"
      },
      "execution_count": null,
      "outputs": [
        {
          "output_type": "stream",
          "name": "stdout",
          "text": [
            "Solution of problem : 5\n",
            "Student ID: 2019-1-60-120\n",
            "\n",
            "Enter a number : 34\n",
            "This is not a prime number\n"
          ]
        }
      ]
    },
    {
      "cell_type": "markdown",
      "source": [
        "problem 6\n"
      ],
      "metadata": {
        "id": "HwCkUr9RFeYO"
      }
    },
    {
      "cell_type": "code",
      "source": [
        "print( \"Solution of problem : 6\")\n",
        "print( \"Student ID: 2019-1-60-120\\n\")\n",
        "\n",
        "n = int(input(\"Enter a number: \")) \n",
        "\n",
        "a = 0\n",
        "b = 1\n",
        "\n",
        "if(n==0):\n",
        "   print(n,\"th fibonacci number is 0\")\n",
        "elif(n==1):\n",
        "  print(n,\"th fibonacci number is 1\")\n",
        "elif(n<0): \n",
        "    print(\"Wrong becasue it is negative number\")\n",
        "else: \n",
        " for i in range(2,n+1):\n",
        "        c = a + b\n",
        "        a = b\n",
        "        b = c\n",
        " print(n,\"th fibonacci number is \" ,c)\n",
        "\n",
        "\n"
      ],
      "metadata": {
        "colab": {
          "base_uri": "https://localhost:8080/"
        },
        "id": "VD4RRKZhFiOm",
        "outputId": "c6bf55b3-92ce-4832-913b-6385491c4329"
      },
      "execution_count": null,
      "outputs": [
        {
          "output_type": "stream",
          "name": "stdout",
          "text": [
            "Solution of problem : 6\n",
            "Student ID: 2019-1-60-120\n",
            "\n",
            "Enter a number: 20\n",
            "20 th fibonacci number is  6765\n"
          ]
        }
      ]
    },
    {
      "cell_type": "markdown",
      "source": [
        "problem 7"
      ],
      "metadata": {
        "id": "nE05PWNKFjwQ"
      }
    },
    {
      "cell_type": "code",
      "source": [
        "print( \"Solution of problem : 7\")\n",
        "print( \"Student ID: 2019-1-60-120\\n\")\n",
        "\n",
        "\n",
        "\n",
        "sum = 0\n",
        "list = [1,2,3,4,5,6,7,8,9,10] \n",
        "for i in list:\n",
        "  sum =sum+i\n",
        "print(\"Sum of the list is \", sum)"
      ],
      "metadata": {
        "colab": {
          "base_uri": "https://localhost:8080/"
        },
        "id": "WCmzmiCUFldM",
        "outputId": "2799557c-8c12-49ab-eab9-9b0e72f91aef"
      },
      "execution_count": null,
      "outputs": [
        {
          "output_type": "stream",
          "name": "stdout",
          "text": [
            "Solution of problem : 7\n",
            "Student ID: 2019-1-60-120\n",
            "\n",
            "Sum of the list is  55\n"
          ]
        }
      ]
    },
    {
      "cell_type": "markdown",
      "source": [
        "problem 8"
      ],
      "metadata": {
        "id": "hGZ4fPyxFm0i"
      }
    },
    {
      "cell_type": "code",
      "source": [
        "print( \"Solution of problem : 8\")\n",
        "print( \"Student ID: 2019-1-60-120\\n\")\n",
        "\n",
        "sum=0\n",
        "list= [1,2,3,4,5,6,7,8,9,10]  \n",
        "\n",
        "a=len(list)\n",
        "for i in range(a):\n",
        "   if(i%2==0):\n",
        "       sum=sum+list[i];\n",
        "print(\"Sum of the list is\", sum)\n",
        "\n",
        "\n"
      ],
      "metadata": {
        "colab": {
          "base_uri": "https://localhost:8080/"
        },
        "id": "o58jXLrvFpDe",
        "outputId": "a4048d3f-a41a-436e-a458-95894de3656a"
      },
      "execution_count": null,
      "outputs": [
        {
          "output_type": "stream",
          "name": "stdout",
          "text": [
            "Solution of problem : 8\n",
            "Student ID: 2019-1-60-120\n",
            "\n",
            "Sum of the list is 25\n"
          ]
        }
      ]
    },
    {
      "cell_type": "markdown",
      "source": [
        "problem 9"
      ],
      "metadata": {
        "id": "k9JQw63DFqqE"
      }
    },
    {
      "cell_type": "code",
      "source": [
        "print( \"Solution of problem : 9\")\n",
        "print( \"Student ID: 2019-1-60-120\\n\")\n",
        "\n",
        "\n",
        "\n",
        "List = [30,20,60,400,70,2,0,100]\n",
        "\n",
        "def largest_number_2019_1_60_120(element):\n",
        "    larg=element[0]\n",
        "    for i in range(len(element)):\n",
        "          if larg < element[i]:\n",
        "                  larg=element[i]     \n",
        "    \n",
        "    print(\"largest element is \", larg)\n",
        "\n",
        "def smallest_number_2019_1_60_120(element):\n",
        "    small=element[0]\n",
        "    for i in range(len(element)):\n",
        "          if small>element[i]:\n",
        "              small=element[i]\n",
        "    \n",
        "    print(\"Smallest element is \", s)\n",
        "    \n",
        "largest_number_2019_1_60_120(List)\n",
        "smallest_number_2019_1_60_120(List)\n",
        "\n",
        "\n",
        "\n",
        "\n",
        "\n"
      ],
      "metadata": {
        "colab": {
          "base_uri": "https://localhost:8080/"
        },
        "id": "e6U3jr08FsgK",
        "outputId": "30f557a8-97dc-4aa0-fe79-7d71ba3facad"
      },
      "execution_count": null,
      "outputs": [
        {
          "output_type": "stream",
          "name": "stdout",
          "text": [
            "Solution of problem : 9\n",
            "Student ID: 2019-1-60-120\n",
            "\n",
            "largest element is  400\n",
            "Smallest element is  36\n"
          ]
        }
      ]
    },
    {
      "cell_type": "markdown",
      "source": [
        "problem 10"
      ],
      "metadata": {
        "id": "QEswqo3OFt-x"
      }
    },
    {
      "cell_type": "code",
      "source": [
        "print( \"Solution of problem : 10\")\n",
        "print( \"Student ID: 2019-1-60-120\\n\")\n",
        "\n",
        "\n",
        "\n",
        "\n",
        "List= [30,20,60,400,70,2,0,100]\n",
        "l=len(list)\n",
        "List.sort()\n",
        "print(\"Second largest element of the list is:\", list[l-2])\n",
        "\n",
        "\n",
        "\n",
        "\n"
      ],
      "metadata": {
        "colab": {
          "base_uri": "https://localhost:8080/"
        },
        "id": "ZiVVQ_-TFv8-",
        "outputId": "820c5110-5eff-41b6-e034-e24644f4fa82"
      },
      "execution_count": null,
      "outputs": [
        {
          "output_type": "stream",
          "name": "stdout",
          "text": [
            "Solution of problem : 10\n",
            "Student ID: 2019-1-60-120\n",
            "\n",
            "Second largest element of the list is: 9\n"
          ]
        }
      ]
    },
    {
      "cell_type": "markdown",
      "source": [
        "problem 11"
      ],
      "metadata": {
        "id": "fhv00aW_FxsM"
      }
    },
    {
      "cell_type": "code",
      "source": [
        "print( \"Solution of problem : 11\")\n",
        "print( \"Student ID: 2019-1-60-120\\n\")\n",
        "\n",
        "\n",
        "\n",
        "string = input(\"Enter a string : \")\n",
        "\n",
        "for i in range(0,len(string)):\n",
        "    if(i%2==0):\n",
        "        print(string[i])"
      ],
      "metadata": {
        "colab": {
          "base_uri": "https://localhost:8080/"
        },
        "id": "mSIAOZ4gFzsl",
        "outputId": "19848d46-3439-4bed-fd29-ec3972475914"
      },
      "execution_count": null,
      "outputs": [
        {
          "output_type": "stream",
          "name": "stdout",
          "text": [
            "Solution of problem : 11\n",
            "Student ID: 2019-1-60-120\n",
            "\n",
            "Enter a string : chadni\n",
            "c\n",
            "a\n",
            "n\n"
          ]
        }
      ]
    },
    {
      "cell_type": "markdown",
      "source": [
        "problem 12"
      ],
      "metadata": {
        "id": "xw9Xc6zbF1QF"
      }
    },
    {
      "cell_type": "code",
      "source": [
        "print( \"Solution of problem : 12\")\n",
        "print( \"Student ID: 2019-1-60-120\\n\")\n",
        "\n",
        "string = input(\"Enter a string : \")\n",
        "n = int(input(\"Enter a number : \"))   # n must be less than the length of the string.\n",
        "\n",
        "element = 0\n",
        "newstring = \"\"     \n",
        "\n",
        "for i in string:\n",
        "        element += 1\n",
        "            \n",
        "      \n",
        "for i in range(n,element):\n",
        "    newstring = newstring+string[i]\n",
        "    \n",
        "print(\"The new string is : \",newstring)\n",
        "\n",
        "\n"
      ],
      "metadata": {
        "colab": {
          "base_uri": "https://localhost:8080/"
        },
        "id": "7usVNQ18F2v4",
        "outputId": "02a84a62-0b52-4b20-e38d-c437936a5aa4"
      },
      "execution_count": null,
      "outputs": [
        {
          "output_type": "stream",
          "name": "stdout",
          "text": [
            "Solution of problem : 12\n",
            "Student ID: 2019-1-60-120\n",
            "\n",
            "Enter a string : chadni\n",
            "Enter a number : 4\n",
            "The new string is :  ni\n"
          ]
        }
      ]
    },
    {
      "cell_type": "markdown",
      "source": [
        "problem 13"
      ],
      "metadata": {
        "id": "fb70i-MGF4FZ"
      }
    },
    {
      "cell_type": "code",
      "source": [
        "print( \"Solution of problem : 13\")\n",
        "print( \"Student ID: 2019-1-60-120\\n\")\n",
        "\n",
        "\n",
        "\n",
        "\n",
        "\n",
        "string = input(\"Enter the String: \")\n",
        "\n",
        "substring = input(\"Enter the String: \") # 'CSE303'\n",
        "\n",
        "sum = 0\n",
        "sublength=len(substring)\n",
        "l=len(string)\n",
        "for i in range(l):\n",
        "    if string[i:i+sublength] == substring:\n",
        "        sum = sum+ 1\n",
        "print (\"The count of the substring “CSE303”: \",sum)\n",
        "\n"
      ],
      "metadata": {
        "colab": {
          "base_uri": "https://localhost:8080/"
        },
        "id": "LyXiaXfNF6DX",
        "outputId": "76efc533-4c24-4a91-ae07-c99cb449cc53"
      },
      "execution_count": null,
      "outputs": [
        {
          "output_type": "stream",
          "name": "stdout",
          "text": [
            "Solution of problem : 13\n",
            "Student ID: 2019-1-60-120\n",
            "\n",
            "Enter the String: python is mandatory in CSE303 for all CSE303 students\n",
            "Enter the String: CSE303\n",
            "The count of the substring “CSE303”:  2\n"
          ]
        }
      ]
    },
    {
      "cell_type": "markdown",
      "source": [
        "problem 14"
      ],
      "metadata": {
        "id": "lW6pWdR1F7b0"
      }
    },
    {
      "cell_type": "code",
      "source": [
        "print( \"Solution of problem : 14\")\n",
        "print( \"Student ID: 2019-1-60-120\\n\")\n",
        "\n",
        "\n",
        "\n",
        "\n",
        "\n",
        "\n",
        "string=input(\"Enter a string: \")\n",
        "\n",
        "def palindrome_checker_2019_1_60_120(input_string):\n",
        "    if(input_string==input_string[::-1]):\n",
        "      print(\"This string is a palindrome\")\n",
        "    else:\n",
        "      print(\"This string is not a palindrome\")\n",
        "     \n",
        "\n",
        "\n",
        "palindrome_checker_2019_1_60_120(string)\n"
      ],
      "metadata": {
        "colab": {
          "base_uri": "https://localhost:8080/"
        },
        "id": "KKmzoUOzF89y",
        "outputId": "c83ee37e-7181-48fe-87b9-926178675f6a"
      },
      "execution_count": null,
      "outputs": [
        {
          "output_type": "stream",
          "name": "stdout",
          "text": [
            "Solution of problem : 14\n",
            "Student ID: 2019-1-60-120\n",
            "\n",
            "Enter a string: level\n",
            "This string is a palindrome\n"
          ]
        }
      ]
    },
    {
      "cell_type": "markdown",
      "source": [
        "problem 15"
      ],
      "metadata": {
        "id": "Oo3nPlf1GCxn"
      }
    },
    {
      "cell_type": "code",
      "source": [
        "print( \"Solution of problem : 15\")\n",
        "print( \"Student ID: 2019-1-60-120\\n\")\n",
        "\n",
        "list1 = [10,12,30,4,15]\n",
        "list2 = [60,7,18,39,40]\n",
        "l1=len(list1)\n",
        "l2=len(list2)\n",
        "new_list = []  #create a new list such that new list should contain only odd numbers from the first list and even numbers from the second list.\n",
        "\n",
        "\n",
        "for i in range(0,l1):\n",
        "    if(list1[i]%2==1):\n",
        "        new_list.append(list1[i])\n",
        "        \n",
        "for i in range(0,l2):\n",
        "    if(list2[i]%2==0):\n",
        "        new_list.append(list2[i])\n",
        "\n",
        "print(\"The created  new list is : \",new_list)\n"
      ],
      "metadata": {
        "colab": {
          "base_uri": "https://localhost:8080/"
        },
        "id": "cnYQOG6SGFie",
        "outputId": "7eed2a82-0047-4f23-e667-c6940c82bc00"
      },
      "execution_count": null,
      "outputs": [
        {
          "output_type": "stream",
          "name": "stdout",
          "text": [
            "Solution of problem : 15\n",
            "Student ID: 2019-1-60-120\n",
            "\n",
            "The created  new list is :  [15, 60, 18, 40]\n"
          ]
        }
      ]
    }
  ]
}